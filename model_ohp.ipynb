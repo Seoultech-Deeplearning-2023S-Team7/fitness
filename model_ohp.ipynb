{
  "cells": [
    {
      "cell_type": "code",
      "execution_count": 219,
      "id": "17d6bf72",
      "metadata": {
        "id": "17d6bf72"
      },
      "outputs": [],
      "source": [
        "import pickle\n",
        "\n",
        "\n",
        "# total_data_ohp.pkl 파일 경로\n",
        "total_data_path = '/content/x_data.pkl'\n",
        "with open(total_data_path, 'rb') as f:\n",
        "    total_data_ohp = pickle.load(f)\n",
        "\n",
        "# outputvec_ohp.pkl 파일 경로\n",
        "outputvec_path = '/content/outputvec_ohp.pkl'\n",
        "with open(outputvec_path, 'rb') as f:\n",
        "    outputvec_ohp = pickle.load(f)"
      ]
    },
    {
      "cell_type": "code",
      "source": [
        "import numpy as np\n",
        "data=np.array(total_data_ohp)\n",
        "y_lable=np.array(outputvec_ohp)"
      ],
      "metadata": {
        "id": "_ZZZ4pEaGrgi"
      },
      "id": "_ZZZ4pEaGrgi",
      "execution_count": 220,
      "outputs": []
    },
    {
      "cell_type": "code",
      "source": [
        "data.shape"
      ],
      "metadata": {
        "colab": {
          "base_uri": "https://localhost:8080/"
        },
        "id": "cVixyOJ1ZTL5",
        "outputId": "7044dc8e-ec99-455e-80ee-a9b6ad6a2001"
      },
      "id": "cVixyOJ1ZTL5",
      "execution_count": 221,
      "outputs": [
        {
          "output_type": "execute_result",
          "data": {
            "text/plain": [
              "(262, 16, 240)"
            ]
          },
          "metadata": {},
          "execution_count": 221
        }
      ]
    },
    {
      "cell_type": "code",
      "source": [
        "y_lable.shape"
      ],
      "metadata": {
        "colab": {
          "base_uri": "https://localhost:8080/"
        },
        "id": "0-QgJawAZTOo",
        "outputId": "7ce40983-55aa-4c59-800e-bd6c556ac2d2"
      },
      "id": "0-QgJawAZTOo",
      "execution_count": 222,
      "outputs": [
        {
          "output_type": "execute_result",
          "data": {
            "text/plain": [
              "(262, 4)"
            ]
          },
          "metadata": {},
          "execution_count": 222
        }
      ]
    },
    {
      "cell_type": "code",
      "source": [
        "import tensorflow as tf\n",
        "input_shape = (16, 240)\n",
        "output_shape = 4\n",
        "\n",
        "from tensorflow.keras.models import Sequential\n",
        "from tensorflow.keras.layers import GRU, Dense\n",
        "\n",
        "# 모델 구성\n",
        "model = Sequential()\n",
        "model.add(GRU(64, input_shape=(16, 240)))\n",
        "model.add(Dense(4, activation='sigmoid'))\n",
        "model.compile(loss=\"binary_crossentropy\", optimizer=\"adam\", metrics=[\"accuracy\"])\n",
        "# 모델 요약 정보 출력\n",
        "model.summary()"
      ],
      "metadata": {
        "colab": {
          "base_uri": "https://localhost:8080/"
        },
        "id": "z3UUvHH3akvz",
        "outputId": "3eb41f91-6bd5-4eab-dfb0-afd2f6828b81"
      },
      "id": "z3UUvHH3akvz",
      "execution_count": 224,
      "outputs": [
        {
          "output_type": "stream",
          "name": "stdout",
          "text": [
            "Model: \"sequential_19\"\n",
            "_________________________________________________________________\n",
            " Layer (type)                Output Shape              Param #   \n",
            "=================================================================\n",
            " gru_9 (GRU)                 (None, 64)                58752     \n",
            "                                                                 \n",
            " dense_26 (Dense)            (None, 4)                 260       \n",
            "                                                                 \n",
            "=================================================================\n",
            "Total params: 59,012\n",
            "Trainable params: 59,012\n",
            "Non-trainable params: 0\n",
            "_________________________________________________________________\n"
          ]
        }
      ]
    },
    {
      "cell_type": "code",
      "source": [
        "x_train = data \n",
        "y_train = y_lable \n",
        "model.fit(x_train, y_train, batch_size=32, epochs=50, validation_split=0.2)"
      ],
      "metadata": {
        "colab": {
          "base_uri": "https://localhost:8080/"
        },
        "id": "2YMOcpNAbzU1",
        "outputId": "efc6e678-2f92-49ac-ebaf-39f5c72b8428"
      },
      "id": "2YMOcpNAbzU1",
      "execution_count": 225,
      "outputs": [
        {
          "output_type": "stream",
          "name": "stdout",
          "text": [
            "Epoch 1/50\n",
            "7/7 [==============================] - 3s 110ms/step - loss: 0.9160 - accuracy: 0.1292 - val_loss: 0.8981 - val_accuracy: 0.1321\n",
            "Epoch 2/50\n",
            "7/7 [==============================] - 0s 23ms/step - loss: 0.8516 - accuracy: 0.1292 - val_loss: 0.8076 - val_accuracy: 0.1321\n",
            "Epoch 3/50\n",
            "7/7 [==============================] - 0s 24ms/step - loss: 0.7949 - accuracy: 0.1292 - val_loss: 0.7695 - val_accuracy: 0.1321\n",
            "Epoch 4/50\n",
            "7/7 [==============================] - 0s 24ms/step - loss: 0.7613 - accuracy: 0.1292 - val_loss: 0.7407 - val_accuracy: 0.1321\n",
            "Epoch 5/50\n",
            "7/7 [==============================] - 0s 23ms/step - loss: 0.7350 - accuracy: 0.1292 - val_loss: 0.7214 - val_accuracy: 0.1321\n",
            "Epoch 6/50\n",
            "7/7 [==============================] - 0s 21ms/step - loss: 0.7199 - accuracy: 0.1292 - val_loss: 0.7084 - val_accuracy: 0.1321\n",
            "Epoch 7/50\n",
            "7/7 [==============================] - 0s 24ms/step - loss: 0.7073 - accuracy: 0.1292 - val_loss: 0.7006 - val_accuracy: 0.1321\n",
            "Epoch 8/50\n",
            "7/7 [==============================] - 0s 25ms/step - loss: 0.7009 - accuracy: 0.1292 - val_loss: 0.6959 - val_accuracy: 0.1321\n",
            "Epoch 9/50\n",
            "7/7 [==============================] - 0s 26ms/step - loss: 0.6961 - accuracy: 0.1292 - val_loss: 0.6939 - val_accuracy: 0.1321\n",
            "Epoch 10/50\n",
            "7/7 [==============================] - 0s 20ms/step - loss: 0.6944 - accuracy: 0.1292 - val_loss: 0.6933 - val_accuracy: 0.1321\n",
            "Epoch 11/50\n",
            "7/7 [==============================] - 0s 20ms/step - loss: 0.6932 - accuracy: 0.1292 - val_loss: 0.6932 - val_accuracy: 0.1321\n",
            "Epoch 12/50\n",
            "7/7 [==============================] - 0s 24ms/step - loss: 0.6931 - accuracy: 0.2440 - val_loss: 0.6937 - val_accuracy: 0.2453\n",
            "Epoch 13/50\n",
            "7/7 [==============================] - 0s 21ms/step - loss: 0.6929 - accuracy: 0.2488 - val_loss: 0.6940 - val_accuracy: 0.2453\n",
            "Epoch 14/50\n",
            "7/7 [==============================] - 0s 23ms/step - loss: 0.6927 - accuracy: 0.2488 - val_loss: 0.6940 - val_accuracy: 0.2453\n",
            "Epoch 15/50\n",
            "7/7 [==============================] - 0s 20ms/step - loss: 0.6929 - accuracy: 0.1292 - val_loss: 0.6939 - val_accuracy: 0.1321\n",
            "Epoch 16/50\n",
            "7/7 [==============================] - 0s 27ms/step - loss: 0.6927 - accuracy: 0.1292 - val_loss: 0.6940 - val_accuracy: 0.1321\n",
            "Epoch 17/50\n",
            "7/7 [==============================] - 0s 24ms/step - loss: 0.6927 - accuracy: 0.1292 - val_loss: 0.6940 - val_accuracy: 0.1321\n",
            "Epoch 18/50\n",
            "7/7 [==============================] - 0s 24ms/step - loss: 0.6927 - accuracy: 0.1292 - val_loss: 0.6944 - val_accuracy: 0.1321\n",
            "Epoch 19/50\n",
            "7/7 [==============================] - 0s 25ms/step - loss: 0.6930 - accuracy: 0.1292 - val_loss: 0.6946 - val_accuracy: 0.1321\n",
            "Epoch 20/50\n",
            "7/7 [==============================] - 0s 23ms/step - loss: 0.6927 - accuracy: 0.1292 - val_loss: 0.6946 - val_accuracy: 0.1321\n",
            "Epoch 21/50\n",
            "7/7 [==============================] - 0s 22ms/step - loss: 0.6927 - accuracy: 0.1292 - val_loss: 0.6946 - val_accuracy: 0.1321\n",
            "Epoch 22/50\n",
            "7/7 [==============================] - 0s 26ms/step - loss: 0.6927 - accuracy: 0.1292 - val_loss: 0.6943 - val_accuracy: 0.1321\n",
            "Epoch 23/50\n",
            "7/7 [==============================] - 0s 24ms/step - loss: 0.6927 - accuracy: 0.1292 - val_loss: 0.6940 - val_accuracy: 0.1321\n",
            "Epoch 24/50\n",
            "7/7 [==============================] - 0s 25ms/step - loss: 0.6926 - accuracy: 0.1292 - val_loss: 0.6940 - val_accuracy: 0.1321\n",
            "Epoch 25/50\n",
            "7/7 [==============================] - 0s 24ms/step - loss: 0.6928 - accuracy: 0.1292 - val_loss: 0.6943 - val_accuracy: 0.1321\n",
            "Epoch 26/50\n",
            "7/7 [==============================] - 0s 22ms/step - loss: 0.6927 - accuracy: 0.1292 - val_loss: 0.6941 - val_accuracy: 0.1321\n",
            "Epoch 27/50\n",
            "7/7 [==============================] - 0s 25ms/step - loss: 0.6927 - accuracy: 0.1292 - val_loss: 0.6941 - val_accuracy: 0.1321\n",
            "Epoch 28/50\n",
            "7/7 [==============================] - 0s 34ms/step - loss: 0.6932 - accuracy: 0.1292 - val_loss: 0.6941 - val_accuracy: 0.1321\n",
            "Epoch 29/50\n",
            "7/7 [==============================] - 0s 38ms/step - loss: 0.6928 - accuracy: 0.2488 - val_loss: 0.6942 - val_accuracy: 0.5472\n",
            "Epoch 30/50\n",
            "7/7 [==============================] - 0s 36ms/step - loss: 0.6928 - accuracy: 0.1914 - val_loss: 0.6943 - val_accuracy: 0.1321\n",
            "Epoch 31/50\n",
            "7/7 [==============================] - 0s 38ms/step - loss: 0.6926 - accuracy: 0.1292 - val_loss: 0.6943 - val_accuracy: 0.1321\n",
            "Epoch 32/50\n",
            "7/7 [==============================] - 0s 39ms/step - loss: 0.6928 - accuracy: 0.1292 - val_loss: 0.6949 - val_accuracy: 0.1321\n",
            "Epoch 33/50\n",
            "7/7 [==============================] - 0s 36ms/step - loss: 0.6928 - accuracy: 0.1292 - val_loss: 0.6947 - val_accuracy: 0.1321\n",
            "Epoch 34/50\n",
            "7/7 [==============================] - 0s 37ms/step - loss: 0.6928 - accuracy: 0.1292 - val_loss: 0.6948 - val_accuracy: 0.1321\n",
            "Epoch 35/50\n",
            "7/7 [==============================] - 0s 38ms/step - loss: 0.6927 - accuracy: 0.1292 - val_loss: 0.6947 - val_accuracy: 0.1321\n",
            "Epoch 36/50\n",
            "7/7 [==============================] - 0s 40ms/step - loss: 0.6930 - accuracy: 0.1292 - val_loss: 0.6944 - val_accuracy: 0.1321\n",
            "Epoch 37/50\n",
            "7/7 [==============================] - 0s 41ms/step - loss: 0.6929 - accuracy: 0.1292 - val_loss: 0.6942 - val_accuracy: 0.1321\n",
            "Epoch 38/50\n",
            "7/7 [==============================] - 0s 36ms/step - loss: 0.6925 - accuracy: 0.1292 - val_loss: 0.6941 - val_accuracy: 0.1321\n",
            "Epoch 39/50\n",
            "7/7 [==============================] - 0s 39ms/step - loss: 0.6926 - accuracy: 0.1292 - val_loss: 0.6939 - val_accuracy: 0.1321\n",
            "Epoch 40/50\n",
            "7/7 [==============================] - 0s 34ms/step - loss: 0.6927 - accuracy: 0.1292 - val_loss: 0.6939 - val_accuracy: 0.1321\n",
            "Epoch 41/50\n",
            "7/7 [==============================] - 0s 33ms/step - loss: 0.6927 - accuracy: 0.1292 - val_loss: 0.6938 - val_accuracy: 0.1321\n",
            "Epoch 42/50\n",
            "7/7 [==============================] - 0s 36ms/step - loss: 0.6927 - accuracy: 0.1292 - val_loss: 0.6940 - val_accuracy: 0.1321\n",
            "Epoch 43/50\n",
            "7/7 [==============================] - 0s 35ms/step - loss: 0.6926 - accuracy: 0.1292 - val_loss: 0.6941 - val_accuracy: 0.1321\n",
            "Epoch 44/50\n",
            "7/7 [==============================] - 0s 40ms/step - loss: 0.6927 - accuracy: 0.4306 - val_loss: 0.6945 - val_accuracy: 0.1321\n",
            "Epoch 45/50\n",
            "7/7 [==============================] - 0s 41ms/step - loss: 0.6928 - accuracy: 0.1292 - val_loss: 0.6946 - val_accuracy: 0.1321\n",
            "Epoch 46/50\n",
            "7/7 [==============================] - 0s 29ms/step - loss: 0.6925 - accuracy: 0.1292 - val_loss: 0.6944 - val_accuracy: 0.1321\n",
            "Epoch 47/50\n",
            "7/7 [==============================] - 0s 22ms/step - loss: 0.6925 - accuracy: 0.1244 - val_loss: 0.6940 - val_accuracy: 0.1321\n",
            "Epoch 48/50\n",
            "7/7 [==============================] - 0s 23ms/step - loss: 0.6928 - accuracy: 0.1292 - val_loss: 0.6937 - val_accuracy: 0.1321\n",
            "Epoch 49/50\n",
            "7/7 [==============================] - 0s 24ms/step - loss: 0.6926 - accuracy: 0.1292 - val_loss: 0.6939 - val_accuracy: 0.1321\n",
            "Epoch 50/50\n",
            "7/7 [==============================] - 0s 24ms/step - loss: 0.6927 - accuracy: 0.1292 - val_loss: 0.6943 - val_accuracy: 0.1321\n"
          ]
        },
        {
          "output_type": "execute_result",
          "data": {
            "text/plain": [
              "<keras.callbacks.History at 0x7f8ef2231ab0>"
            ]
          },
          "metadata": {},
          "execution_count": 225
        }
      ]
    },
    {
      "cell_type": "code",
      "source": [
        "input_shape = (16, 240)\n",
        "output_shape = 4\n",
        "\n",
        "from tensorflow.keras.models import Sequential\n",
        "from tensorflow.keras.layers import SimpleRNN, Dense\n",
        "\n",
        "\n",
        "model = Sequential()\n",
        "model.add(SimpleRNN(64, input_shape=(16, 240)))\n",
        "model.add(Dense(4, activation='sigmoid'))\n",
        "model.compile(loss=\"binary_crossentropy\", optimizer=\"adam\", metrics=[\"accuracy\"])\n",
        "\n",
        "model.summary()"
      ],
      "metadata": {
        "colab": {
          "base_uri": "https://localhost:8080/"
        },
        "id": "Flhn09QoZTVr",
        "outputId": "fbaab6e4-97b8-4b76-d2b5-fa364d431472"
      },
      "id": "Flhn09QoZTVr",
      "execution_count": 226,
      "outputs": [
        {
          "output_type": "stream",
          "name": "stdout",
          "text": [
            "Model: \"sequential_20\"\n",
            "_________________________________________________________________\n",
            " Layer (type)                Output Shape              Param #   \n",
            "=================================================================\n",
            " simple_rnn_1 (SimpleRNN)    (None, 64)                19520     \n",
            "                                                                 \n",
            " dense_27 (Dense)            (None, 4)                 260       \n",
            "                                                                 \n",
            "=================================================================\n",
            "Total params: 19,780\n",
            "Trainable params: 19,780\n",
            "Non-trainable params: 0\n",
            "_________________________________________________________________\n"
          ]
        }
      ]
    },
    {
      "cell_type": "code",
      "source": [
        "x_train = data \n",
        "y_train = y_lable \n",
        "model.fit(x_train, y_train, batch_size=32, epochs=50, validation_split=0.2)"
      ],
      "metadata": {
        "colab": {
          "base_uri": "https://localhost:8080/"
        },
        "id": "9W3o6LvxZuqS",
        "outputId": "96e18505-5206-456a-86ad-859a8bd6c2d4"
      },
      "id": "9W3o6LvxZuqS",
      "execution_count": 109,
      "outputs": [
        {
          "output_type": "stream",
          "name": "stdout",
          "text": [
            "Epoch 1/50\n",
            "7/7 [==============================] - 0s 34ms/step - loss: 0.6932 - accuracy: 0.1531 - val_loss: 0.6944 - val_accuracy: 0.0566\n",
            "Epoch 2/50\n",
            "7/7 [==============================] - 0s 23ms/step - loss: 0.6934 - accuracy: 0.2153 - val_loss: 0.6942 - val_accuracy: 0.2453\n",
            "Epoch 3/50\n",
            "7/7 [==============================] - 0s 21ms/step - loss: 0.6930 - accuracy: 0.2010 - val_loss: 0.6956 - val_accuracy: 0.1321\n",
            "Epoch 4/50\n",
            "7/7 [==============================] - 0s 23ms/step - loss: 0.6929 - accuracy: 0.1340 - val_loss: 0.6964 - val_accuracy: 0.0566\n",
            "Epoch 5/50\n",
            "7/7 [==============================] - 0s 23ms/step - loss: 0.6928 - accuracy: 0.1148 - val_loss: 0.6952 - val_accuracy: 0.1321\n",
            "Epoch 6/50\n",
            "7/7 [==============================] - 0s 20ms/step - loss: 0.6929 - accuracy: 0.1435 - val_loss: 0.6952 - val_accuracy: 0.1321\n",
            "Epoch 7/50\n",
            "7/7 [==============================] - 0s 19ms/step - loss: 0.6929 - accuracy: 0.1435 - val_loss: 0.6947 - val_accuracy: 0.1321\n",
            "Epoch 8/50\n",
            "7/7 [==============================] - 0s 25ms/step - loss: 0.6928 - accuracy: 0.1435 - val_loss: 0.6948 - val_accuracy: 0.1321\n",
            "Epoch 9/50\n",
            "7/7 [==============================] - 0s 22ms/step - loss: 0.6926 - accuracy: 0.1866 - val_loss: 0.6954 - val_accuracy: 0.2453\n",
            "Epoch 10/50\n",
            "7/7 [==============================] - 0s 13ms/step - loss: 0.6929 - accuracy: 0.2632 - val_loss: 0.6948 - val_accuracy: 0.2453\n",
            "Epoch 11/50\n",
            "7/7 [==============================] - 0s 12ms/step - loss: 0.6924 - accuracy: 0.2632 - val_loss: 0.6945 - val_accuracy: 0.2453\n",
            "Epoch 12/50\n",
            "7/7 [==============================] - 0s 13ms/step - loss: 0.6925 - accuracy: 0.1675 - val_loss: 0.6943 - val_accuracy: 0.1321\n",
            "Epoch 13/50\n",
            "7/7 [==============================] - 0s 12ms/step - loss: 0.6925 - accuracy: 0.2823 - val_loss: 0.6950 - val_accuracy: 0.5472\n",
            "Epoch 14/50\n",
            "7/7 [==============================] - 0s 12ms/step - loss: 0.6928 - accuracy: 0.4689 - val_loss: 0.6961 - val_accuracy: 0.1321\n",
            "Epoch 15/50\n",
            "7/7 [==============================] - 0s 12ms/step - loss: 0.6929 - accuracy: 0.0861 - val_loss: 0.6951 - val_accuracy: 0.1321\n",
            "Epoch 16/50\n",
            "7/7 [==============================] - 0s 12ms/step - loss: 0.6925 - accuracy: 0.1435 - val_loss: 0.6946 - val_accuracy: 0.1321\n",
            "Epoch 17/50\n",
            "7/7 [==============================] - 0s 12ms/step - loss: 0.6927 - accuracy: 0.2488 - val_loss: 0.6952 - val_accuracy: 0.2453\n",
            "Epoch 18/50\n",
            "7/7 [==============================] - 0s 15ms/step - loss: 0.6922 - accuracy: 0.2632 - val_loss: 0.6950 - val_accuracy: 0.2453\n",
            "Epoch 19/50\n",
            "7/7 [==============================] - 0s 14ms/step - loss: 0.6929 - accuracy: 0.1722 - val_loss: 0.6948 - val_accuracy: 0.1321\n",
            "Epoch 20/50\n",
            "7/7 [==============================] - 0s 14ms/step - loss: 0.6923 - accuracy: 0.1531 - val_loss: 0.6952 - val_accuracy: 0.2453\n",
            "Epoch 21/50\n",
            "7/7 [==============================] - 0s 12ms/step - loss: 0.6926 - accuracy: 0.2632 - val_loss: 0.6956 - val_accuracy: 0.2453\n",
            "Epoch 22/50\n",
            "7/7 [==============================] - 0s 13ms/step - loss: 0.6926 - accuracy: 0.2967 - val_loss: 0.6949 - val_accuracy: 0.2453\n",
            "Epoch 23/50\n",
            "7/7 [==============================] - 0s 13ms/step - loss: 0.6927 - accuracy: 0.1579 - val_loss: 0.6955 - val_accuracy: 0.1321\n",
            "Epoch 24/50\n",
            "7/7 [==============================] - 0s 14ms/step - loss: 0.6924 - accuracy: 0.1435 - val_loss: 0.6946 - val_accuracy: 0.1321\n",
            "Epoch 25/50\n",
            "7/7 [==============================] - 0s 14ms/step - loss: 0.6925 - accuracy: 0.1435 - val_loss: 0.6948 - val_accuracy: 0.1321\n",
            "Epoch 26/50\n",
            "7/7 [==============================] - 0s 14ms/step - loss: 0.6928 - accuracy: 0.0813 - val_loss: 0.6948 - val_accuracy: 0.0566\n",
            "Epoch 27/50\n",
            "7/7 [==============================] - 0s 14ms/step - loss: 0.6928 - accuracy: 0.2775 - val_loss: 0.6939 - val_accuracy: 0.1321\n",
            "Epoch 28/50\n",
            "7/7 [==============================] - 0s 13ms/step - loss: 0.6930 - accuracy: 0.1914 - val_loss: 0.6943 - val_accuracy: 0.2453\n",
            "Epoch 29/50\n",
            "7/7 [==============================] - 0s 14ms/step - loss: 0.6927 - accuracy: 0.2632 - val_loss: 0.6949 - val_accuracy: 0.2453\n",
            "Epoch 30/50\n",
            "7/7 [==============================] - 0s 15ms/step - loss: 0.6920 - accuracy: 0.2632 - val_loss: 0.6956 - val_accuracy: 0.2453\n",
            "Epoch 31/50\n",
            "7/7 [==============================] - 0s 12ms/step - loss: 0.6926 - accuracy: 0.1675 - val_loss: 0.6948 - val_accuracy: 0.1321\n",
            "Epoch 32/50\n",
            "7/7 [==============================] - 0s 13ms/step - loss: 0.6920 - accuracy: 0.1435 - val_loss: 0.6952 - val_accuracy: 0.1321\n",
            "Epoch 33/50\n",
            "7/7 [==============================] - 0s 13ms/step - loss: 0.6921 - accuracy: 0.1435 - val_loss: 0.6952 - val_accuracy: 0.1321\n",
            "Epoch 34/50\n",
            "7/7 [==============================] - 0s 14ms/step - loss: 0.6929 - accuracy: 0.3445 - val_loss: 0.6961 - val_accuracy: 0.2453\n",
            "Epoch 35/50\n",
            "7/7 [==============================] - 0s 15ms/step - loss: 0.6926 - accuracy: 0.2632 - val_loss: 0.6954 - val_accuracy: 0.2453\n",
            "Epoch 36/50\n",
            "7/7 [==============================] - 0s 14ms/step - loss: 0.6919 - accuracy: 0.2632 - val_loss: 0.6937 - val_accuracy: 0.2453\n",
            "Epoch 37/50\n",
            "7/7 [==============================] - 0s 14ms/step - loss: 0.6923 - accuracy: 0.2632 - val_loss: 0.6939 - val_accuracy: 0.2453\n",
            "Epoch 38/50\n",
            "7/7 [==============================] - 0s 13ms/step - loss: 0.6921 - accuracy: 0.2632 - val_loss: 0.6946 - val_accuracy: 0.0566\n",
            "Epoch 39/50\n",
            "7/7 [==============================] - 0s 14ms/step - loss: 0.6919 - accuracy: 0.1100 - val_loss: 0.6949 - val_accuracy: 0.1321\n",
            "Epoch 40/50\n",
            "7/7 [==============================] - 0s 15ms/step - loss: 0.6920 - accuracy: 0.2105 - val_loss: 0.6958 - val_accuracy: 0.1321\n",
            "Epoch 41/50\n",
            "7/7 [==============================] - 0s 12ms/step - loss: 0.6926 - accuracy: 0.1435 - val_loss: 0.6957 - val_accuracy: 0.1321\n",
            "Epoch 42/50\n",
            "7/7 [==============================] - 0s 16ms/step - loss: 0.6925 - accuracy: 0.1435 - val_loss: 0.6957 - val_accuracy: 0.1321\n",
            "Epoch 43/50\n",
            "7/7 [==============================] - 0s 12ms/step - loss: 0.6923 - accuracy: 0.1435 - val_loss: 0.6945 - val_accuracy: 0.1321\n",
            "Epoch 44/50\n",
            "7/7 [==============================] - 0s 14ms/step - loss: 0.6923 - accuracy: 0.1962 - val_loss: 0.6949 - val_accuracy: 0.5472\n",
            "Epoch 45/50\n",
            "7/7 [==============================] - 0s 14ms/step - loss: 0.6922 - accuracy: 0.3349 - val_loss: 0.6948 - val_accuracy: 0.2453\n",
            "Epoch 46/50\n",
            "7/7 [==============================] - 0s 13ms/step - loss: 0.6922 - accuracy: 0.1722 - val_loss: 0.6952 - val_accuracy: 0.2453\n",
            "Epoch 47/50\n",
            "7/7 [==============================] - 0s 14ms/step - loss: 0.6921 - accuracy: 0.2632 - val_loss: 0.6951 - val_accuracy: 0.2453\n",
            "Epoch 48/50\n",
            "7/7 [==============================] - 0s 15ms/step - loss: 0.6920 - accuracy: 0.2632 - val_loss: 0.6948 - val_accuracy: 0.2453\n",
            "Epoch 49/50\n",
            "7/7 [==============================] - 0s 17ms/step - loss: 0.6922 - accuracy: 0.4115 - val_loss: 0.6944 - val_accuracy: 0.5472\n",
            "Epoch 50/50\n",
            "7/7 [==============================] - 0s 13ms/step - loss: 0.6918 - accuracy: 0.3349 - val_loss: 0.6950 - val_accuracy: 0.2453\n"
          ]
        },
        {
          "output_type": "execute_result",
          "data": {
            "text/plain": [
              "<keras.callbacks.History at 0x7f8ef2510910>"
            ]
          },
          "metadata": {},
          "execution_count": 109
        }
      ]
    },
    {
      "cell_type": "code",
      "source": [
        "from tensorflow.keras.losses import MeanSquaredError\n",
        "input_shape = (16, 240)\n",
        "output_shape = 4\n",
        "\n",
        "from tensorflow.keras.models import Sequential\n",
        "from tensorflow.keras.layers import LSTM, Dense\n",
        "\n",
        "# 모델 구성\n",
        "model = Sequential()\n",
        "model.add(LSTM(64, input_shape=(16, 240)))\n",
        "model.add(Dense(4, activation='sigmoid'))\n",
        "# 모델 컴파일\n",
        "model.compile(loss=\"binary_crossentropy\", optimizer=\"adam\", metrics=[\"accuracy\"])\n",
        "# 모델 요약 정보 출력\n",
        "model.summary()"
      ],
      "metadata": {
        "colab": {
          "base_uri": "https://localhost:8080/"
        },
        "id": "ch4cwTJbC98j",
        "outputId": "df6d8acd-e87e-41eb-b5bf-351cbde325b8"
      },
      "id": "ch4cwTJbC98j",
      "execution_count": 113,
      "outputs": [
        {
          "output_type": "stream",
          "name": "stdout",
          "text": [
            "Model: \"sequential_13\"\n",
            "_________________________________________________________________\n",
            " Layer (type)                Output Shape              Param #   \n",
            "=================================================================\n",
            " lstm_4 (LSTM)               (None, 64)                78080     \n",
            "                                                                 \n",
            " dense_13 (Dense)            (None, 4)                 260       \n",
            "                                                                 \n",
            "=================================================================\n",
            "Total params: 78,340\n",
            "Trainable params: 78,340\n",
            "Non-trainable params: 0\n",
            "_________________________________________________________________\n"
          ]
        }
      ]
    },
    {
      "cell_type": "code",
      "source": [
        "x_train = data \n",
        "y_train = y_lable \n",
        "model.fit(x_train, y_train, batch_size=32, epochs=50, validation_split=0.2)"
      ],
      "metadata": {
        "colab": {
          "base_uri": "https://localhost:8080/"
        },
        "id": "_pYCiPXADFhL",
        "outputId": "45865ddb-3352-47dd-aa0c-966ae447f2fc"
      },
      "id": "_pYCiPXADFhL",
      "execution_count": 114,
      "outputs": [
        {
          "output_type": "stream",
          "name": "stdout",
          "text": [
            "Epoch 1/50\n",
            "7/7 [==============================] - 4s 113ms/step - loss: 0.7278 - accuracy: 0.2536 - val_loss: 0.7241 - val_accuracy: 0.2453\n",
            "Epoch 2/50\n",
            "7/7 [==============================] - 0s 30ms/step - loss: 0.7129 - accuracy: 0.2488 - val_loss: 0.7174 - val_accuracy: 0.2453\n",
            "Epoch 3/50\n",
            "7/7 [==============================] - 0s 25ms/step - loss: 0.7083 - accuracy: 0.2488 - val_loss: 0.7116 - val_accuracy: 0.2453\n",
            "Epoch 4/50\n",
            "7/7 [==============================] - 0s 26ms/step - loss: 0.7041 - accuracy: 0.2488 - val_loss: 0.7070 - val_accuracy: 0.2453\n",
            "Epoch 5/50\n",
            "7/7 [==============================] - 0s 28ms/step - loss: 0.7010 - accuracy: 0.2488 - val_loss: 0.7036 - val_accuracy: 0.2453\n",
            "Epoch 6/50\n",
            "7/7 [==============================] - 0s 25ms/step - loss: 0.6985 - accuracy: 0.2488 - val_loss: 0.7010 - val_accuracy: 0.2453\n",
            "Epoch 7/50\n",
            "7/7 [==============================] - 0s 30ms/step - loss: 0.6968 - accuracy: 0.2488 - val_loss: 0.6989 - val_accuracy: 0.2453\n",
            "Epoch 8/50\n",
            "7/7 [==============================] - 0s 28ms/step - loss: 0.6959 - accuracy: 0.2488 - val_loss: 0.6973 - val_accuracy: 0.2453\n",
            "Epoch 9/50\n",
            "7/7 [==============================] - 0s 25ms/step - loss: 0.6948 - accuracy: 0.2488 - val_loss: 0.6960 - val_accuracy: 0.2453\n",
            "Epoch 10/50\n",
            "7/7 [==============================] - 0s 25ms/step - loss: 0.6942 - accuracy: 0.2488 - val_loss: 0.6952 - val_accuracy: 0.2453\n",
            "Epoch 11/50\n",
            "7/7 [==============================] - 0s 24ms/step - loss: 0.6938 - accuracy: 0.2488 - val_loss: 0.6946 - val_accuracy: 0.2453\n",
            "Epoch 12/50\n",
            "7/7 [==============================] - 0s 23ms/step - loss: 0.6937 - accuracy: 0.2488 - val_loss: 0.6943 - val_accuracy: 0.2453\n",
            "Epoch 13/50\n",
            "7/7 [==============================] - 0s 29ms/step - loss: 0.6934 - accuracy: 0.2488 - val_loss: 0.6941 - val_accuracy: 0.2453\n",
            "Epoch 14/50\n",
            "7/7 [==============================] - 0s 22ms/step - loss: 0.6934 - accuracy: 0.2488 - val_loss: 0.6939 - val_accuracy: 0.2453\n",
            "Epoch 15/50\n",
            "7/7 [==============================] - 0s 23ms/step - loss: 0.6933 - accuracy: 0.2488 - val_loss: 0.6935 - val_accuracy: 0.2453\n",
            "Epoch 16/50\n",
            "7/7 [==============================] - 0s 22ms/step - loss: 0.6932 - accuracy: 0.2488 - val_loss: 0.6935 - val_accuracy: 0.2453\n",
            "Epoch 17/50\n",
            "7/7 [==============================] - 0s 26ms/step - loss: 0.6932 - accuracy: 0.2488 - val_loss: 0.6934 - val_accuracy: 0.2453\n",
            "Epoch 18/50\n",
            "7/7 [==============================] - 0s 25ms/step - loss: 0.6932 - accuracy: 0.2488 - val_loss: 0.6934 - val_accuracy: 0.2453\n",
            "Epoch 19/50\n",
            "7/7 [==============================] - 0s 29ms/step - loss: 0.6932 - accuracy: 0.2488 - val_loss: 0.6934 - val_accuracy: 0.2453\n",
            "Epoch 20/50\n",
            "7/7 [==============================] - 0s 27ms/step - loss: 0.6932 - accuracy: 0.2488 - val_loss: 0.6935 - val_accuracy: 0.2453\n",
            "Epoch 21/50\n",
            "7/7 [==============================] - 0s 23ms/step - loss: 0.6932 - accuracy: 0.2488 - val_loss: 0.6935 - val_accuracy: 0.2453\n",
            "Epoch 22/50\n",
            "7/7 [==============================] - 0s 24ms/step - loss: 0.6931 - accuracy: 0.2488 - val_loss: 0.6935 - val_accuracy: 0.2453\n",
            "Epoch 23/50\n",
            "7/7 [==============================] - 0s 23ms/step - loss: 0.6932 - accuracy: 0.2488 - val_loss: 0.6933 - val_accuracy: 0.2453\n",
            "Epoch 24/50\n",
            "7/7 [==============================] - 0s 25ms/step - loss: 0.6932 - accuracy: 0.2488 - val_loss: 0.6934 - val_accuracy: 0.2453\n",
            "Epoch 25/50\n",
            "7/7 [==============================] - 0s 26ms/step - loss: 0.6932 - accuracy: 0.2488 - val_loss: 0.6933 - val_accuracy: 0.2453\n",
            "Epoch 26/50\n",
            "7/7 [==============================] - 0s 27ms/step - loss: 0.6932 - accuracy: 0.2488 - val_loss: 0.6933 - val_accuracy: 0.2453\n",
            "Epoch 27/50\n",
            "7/7 [==============================] - 0s 24ms/step - loss: 0.6932 - accuracy: 0.2488 - val_loss: 0.6934 - val_accuracy: 0.2453\n",
            "Epoch 28/50\n",
            "7/7 [==============================] - 0s 26ms/step - loss: 0.6932 - accuracy: 0.2488 - val_loss: 0.6935 - val_accuracy: 0.2453\n",
            "Epoch 29/50\n",
            "7/7 [==============================] - 0s 26ms/step - loss: 0.6933 - accuracy: 0.2344 - val_loss: 0.6935 - val_accuracy: 0.1321\n",
            "Epoch 30/50\n",
            "7/7 [==============================] - 0s 32ms/step - loss: 0.6933 - accuracy: 0.1531 - val_loss: 0.6933 - val_accuracy: 0.1321\n",
            "Epoch 31/50\n",
            "7/7 [==============================] - 0s 27ms/step - loss: 0.6932 - accuracy: 0.1292 - val_loss: 0.6934 - val_accuracy: 0.1321\n",
            "Epoch 32/50\n",
            "7/7 [==============================] - 0s 24ms/step - loss: 0.6932 - accuracy: 0.1292 - val_loss: 0.6934 - val_accuracy: 0.1321\n",
            "Epoch 33/50\n",
            "7/7 [==============================] - 0s 26ms/step - loss: 0.6932 - accuracy: 0.1818 - val_loss: 0.6934 - val_accuracy: 0.2453\n",
            "Epoch 34/50\n",
            "7/7 [==============================] - 0s 25ms/step - loss: 0.6931 - accuracy: 0.2488 - val_loss: 0.6934 - val_accuracy: 0.2453\n",
            "Epoch 35/50\n",
            "7/7 [==============================] - 0s 24ms/step - loss: 0.6932 - accuracy: 0.2488 - val_loss: 0.6934 - val_accuracy: 0.2453\n",
            "Epoch 36/50\n",
            "7/7 [==============================] - 0s 28ms/step - loss: 0.6932 - accuracy: 0.2488 - val_loss: 0.6934 - val_accuracy: 0.2453\n",
            "Epoch 37/50\n",
            "7/7 [==============================] - 0s 23ms/step - loss: 0.6932 - accuracy: 0.1770 - val_loss: 0.6934 - val_accuracy: 0.1321\n",
            "Epoch 38/50\n",
            "7/7 [==============================] - 0s 25ms/step - loss: 0.6932 - accuracy: 0.1292 - val_loss: 0.6933 - val_accuracy: 0.1321\n",
            "Epoch 39/50\n",
            "7/7 [==============================] - 0s 25ms/step - loss: 0.6932 - accuracy: 0.1435 - val_loss: 0.6931 - val_accuracy: 0.2453\n",
            "Epoch 40/50\n",
            "7/7 [==============================] - 0s 23ms/step - loss: 0.6932 - accuracy: 0.2488 - val_loss: 0.6932 - val_accuracy: 0.2453\n",
            "Epoch 41/50\n",
            "7/7 [==============================] - 0s 24ms/step - loss: 0.6933 - accuracy: 0.2488 - val_loss: 0.6933 - val_accuracy: 0.2453\n",
            "Epoch 42/50\n",
            "7/7 [==============================] - 0s 28ms/step - loss: 0.6932 - accuracy: 0.2488 - val_loss: 0.6932 - val_accuracy: 0.2453\n",
            "Epoch 43/50\n",
            "7/7 [==============================] - 0s 22ms/step - loss: 0.6932 - accuracy: 0.2488 - val_loss: 0.6933 - val_accuracy: 0.2453\n",
            "Epoch 44/50\n",
            "7/7 [==============================] - 0s 22ms/step - loss: 0.6932 - accuracy: 0.2488 - val_loss: 0.6934 - val_accuracy: 0.2453\n",
            "Epoch 45/50\n",
            "7/7 [==============================] - 0s 25ms/step - loss: 0.6932 - accuracy: 0.2488 - val_loss: 0.6934 - val_accuracy: 0.2453\n",
            "Epoch 46/50\n",
            "7/7 [==============================] - 0s 25ms/step - loss: 0.6933 - accuracy: 0.1627 - val_loss: 0.6935 - val_accuracy: 0.1321\n",
            "Epoch 47/50\n",
            "7/7 [==============================] - 0s 25ms/step - loss: 0.6933 - accuracy: 0.1292 - val_loss: 0.6935 - val_accuracy: 0.1321\n",
            "Epoch 48/50\n",
            "7/7 [==============================] - 0s 25ms/step - loss: 0.6933 - accuracy: 0.1292 - val_loss: 0.6937 - val_accuracy: 0.1321\n",
            "Epoch 49/50\n",
            "7/7 [==============================] - 0s 24ms/step - loss: 0.6932 - accuracy: 0.1292 - val_loss: 0.6937 - val_accuracy: 0.1321\n",
            "Epoch 50/50\n",
            "7/7 [==============================] - 0s 24ms/step - loss: 0.6932 - accuracy: 0.1292 - val_loss: 0.6936 - val_accuracy: 0.1321\n"
          ]
        },
        {
          "output_type": "execute_result",
          "data": {
            "text/plain": [
              "<keras.callbacks.History at 0x7f8eee1724d0>"
            ]
          },
          "metadata": {},
          "execution_count": 114
        }
      ]
    },
    {
      "cell_type": "code",
      "source": [
        "\n",
        "input_shape = (16, 240)\n",
        "output_shape = 4\n",
        "\n",
        "from tensorflow.keras.models import Sequential\n",
        "from tensorflow.keras.layers import LSTM, Dense\n",
        "\n",
        "\n",
        "model = tf.keras.Sequential()\n",
        "model.add(tf.keras.layers.LSTM(16, input_shape=input_shape, return_sequences=False))\n",
        "model.add(tf.keras.layers.Dense(512, activation='sigmoid'))\n",
        "model.add(tf.keras.layers.Dense(128, activation='sigmoid'))\n",
        "model.add(tf.keras.layers.Dense(64, activation='sigmoid'))\n",
        "model.add(tf.keras.layers.Dense(output_shape, activation='sigmoid'))\n",
        "model.compile(loss=\"binary_crossentropy\", optimizer=\"adam\", metrics=[\"accuracy\"])\n",
        "\n",
        "model.summary()"
      ],
      "metadata": {
        "colab": {
          "base_uri": "https://localhost:8080/"
        },
        "id": "bW3EjxZXFpEh",
        "outputId": "2e7c54ad-894d-4f32-ecc3-830656ca95e0"
      },
      "id": "bW3EjxZXFpEh",
      "execution_count": 122,
      "outputs": [
        {
          "output_type": "stream",
          "name": "stdout",
          "text": [
            "Model: \"sequential_18\"\n",
            "_________________________________________________________________\n",
            " Layer (type)                Output Shape              Param #   \n",
            "=================================================================\n",
            " lstm_8 (LSTM)               (None, 16)                16448     \n",
            "                                                                 \n",
            " dense_22 (Dense)            (None, 512)               8704      \n",
            "                                                                 \n",
            " dense_23 (Dense)            (None, 128)               65664     \n",
            "                                                                 \n",
            " dense_24 (Dense)            (None, 64)                8256      \n",
            "                                                                 \n",
            " dense_25 (Dense)            (None, 4)                 260       \n",
            "                                                                 \n",
            "=================================================================\n",
            "Total params: 99,332\n",
            "Trainable params: 99,332\n",
            "Non-trainable params: 0\n",
            "_________________________________________________________________\n"
          ]
        }
      ]
    },
    {
      "cell_type": "code",
      "source": [
        "x_train = data \n",
        "y_train = y_lable \n",
        "model.fit(x_train, y_train, batch_size=32, epochs=50, validation_split=0.2)"
      ],
      "metadata": {
        "colab": {
          "base_uri": "https://localhost:8080/"
        },
        "id": "lN_g-bItFyBz",
        "outputId": "33cd0ba3-08da-45ce-ed0b-85bb937f5807"
      },
      "id": "lN_g-bItFyBz",
      "execution_count": 123,
      "outputs": [
        {
          "output_type": "stream",
          "name": "stdout",
          "text": [
            "Epoch 1/50\n",
            "7/7 [==============================] - 6s 106ms/step - loss: 0.7034 - accuracy: 0.1388 - val_loss: 0.7028 - val_accuracy: 0.2453\n",
            "Epoch 2/50\n",
            "7/7 [==============================] - 0s 18ms/step - loss: 0.7074 - accuracy: 0.2488 - val_loss: 0.6994 - val_accuracy: 0.2453\n",
            "Epoch 3/50\n",
            "7/7 [==============================] - 0s 21ms/step - loss: 0.6984 - accuracy: 0.4115 - val_loss: 0.6935 - val_accuracy: 0.1321\n",
            "Epoch 4/50\n",
            "7/7 [==============================] - 0s 19ms/step - loss: 0.6971 - accuracy: 0.1292 - val_loss: 0.6990 - val_accuracy: 0.1321\n",
            "Epoch 5/50\n",
            "7/7 [==============================] - 0s 18ms/step - loss: 0.6964 - accuracy: 0.1292 - val_loss: 0.6952 - val_accuracy: 0.1321\n",
            "Epoch 6/50\n",
            "7/7 [==============================] - 0s 18ms/step - loss: 0.6966 - accuracy: 0.4833 - val_loss: 0.6932 - val_accuracy: 0.5660\n",
            "Epoch 7/50\n",
            "7/7 [==============================] - 0s 18ms/step - loss: 0.6953 - accuracy: 0.3445 - val_loss: 0.6938 - val_accuracy: 0.2453\n",
            "Epoch 8/50\n",
            "7/7 [==============================] - 0s 17ms/step - loss: 0.6944 - accuracy: 0.2249 - val_loss: 0.6975 - val_accuracy: 0.1321\n",
            "Epoch 9/50\n",
            "7/7 [==============================] - 0s 19ms/step - loss: 0.6965 - accuracy: 0.1292 - val_loss: 0.6955 - val_accuracy: 0.1321\n",
            "Epoch 10/50\n",
            "7/7 [==============================] - 0s 20ms/step - loss: 0.6952 - accuracy: 0.4833 - val_loss: 0.6926 - val_accuracy: 0.5660\n",
            "Epoch 11/50\n",
            "7/7 [==============================] - 0s 18ms/step - loss: 0.6947 - accuracy: 0.3062 - val_loss: 0.6930 - val_accuracy: 0.2453\n",
            "Epoch 12/50\n",
            "7/7 [==============================] - 0s 21ms/step - loss: 0.6947 - accuracy: 0.1866 - val_loss: 0.6934 - val_accuracy: 0.1321\n",
            "Epoch 13/50\n",
            "7/7 [==============================] - 0s 17ms/step - loss: 0.6940 - accuracy: 0.1292 - val_loss: 0.6931 - val_accuracy: 0.1321\n",
            "Epoch 14/50\n",
            "7/7 [==============================] - 0s 17ms/step - loss: 0.6934 - accuracy: 0.0813 - val_loss: 0.6945 - val_accuracy: 0.0566\n",
            "Epoch 15/50\n",
            "7/7 [==============================] - 0s 17ms/step - loss: 0.6947 - accuracy: 0.0574 - val_loss: 0.6950 - val_accuracy: 0.0566\n",
            "Epoch 16/50\n",
            "7/7 [==============================] - 0s 20ms/step - loss: 0.6940 - accuracy: 0.1866 - val_loss: 0.6929 - val_accuracy: 0.1321\n",
            "Epoch 17/50\n",
            "7/7 [==============================] - 0s 19ms/step - loss: 0.6944 - accuracy: 0.1722 - val_loss: 0.6933 - val_accuracy: 0.2453\n",
            "Epoch 18/50\n",
            "7/7 [==============================] - 0s 19ms/step - loss: 0.6937 - accuracy: 0.1579 - val_loss: 0.6944 - val_accuracy: 0.1321\n",
            "Epoch 19/50\n",
            "7/7 [==============================] - 0s 19ms/step - loss: 0.6934 - accuracy: 0.1148 - val_loss: 0.6942 - val_accuracy: 0.0566\n",
            "Epoch 20/50\n",
            "7/7 [==============================] - 0s 18ms/step - loss: 0.6957 - accuracy: 0.0574 - val_loss: 0.6945 - val_accuracy: 0.0566\n",
            "Epoch 21/50\n",
            "7/7 [==============================] - 0s 19ms/step - loss: 0.6943 - accuracy: 0.4976 - val_loss: 0.6929 - val_accuracy: 0.1321\n",
            "Epoch 22/50\n",
            "7/7 [==============================] - 0s 20ms/step - loss: 0.6937 - accuracy: 0.1292 - val_loss: 0.6959 - val_accuracy: 0.1321\n",
            "Epoch 23/50\n",
            "7/7 [==============================] - 0s 17ms/step - loss: 0.6953 - accuracy: 0.2057 - val_loss: 0.6947 - val_accuracy: 0.2453\n",
            "Epoch 24/50\n",
            "7/7 [==============================] - 0s 18ms/step - loss: 0.6949 - accuracy: 0.1770 - val_loss: 0.6953 - val_accuracy: 0.0566\n",
            "Epoch 25/50\n",
            "7/7 [==============================] - 0s 17ms/step - loss: 0.6953 - accuracy: 0.1100 - val_loss: 0.6931 - val_accuracy: 0.1321\n",
            "Epoch 26/50\n",
            "7/7 [==============================] - 0s 23ms/step - loss: 0.6949 - accuracy: 0.1292 - val_loss: 0.6923 - val_accuracy: 0.5660\n",
            "Epoch 27/50\n",
            "7/7 [==============================] - 0s 20ms/step - loss: 0.6952 - accuracy: 0.2632 - val_loss: 0.6958 - val_accuracy: 0.0566\n",
            "Epoch 28/50\n",
            "7/7 [==============================] - 0s 19ms/step - loss: 0.6958 - accuracy: 0.4306 - val_loss: 0.6960 - val_accuracy: 0.5660\n",
            "Epoch 29/50\n",
            "7/7 [==============================] - 0s 18ms/step - loss: 0.6949 - accuracy: 0.5646 - val_loss: 0.6925 - val_accuracy: 0.1321\n",
            "Epoch 30/50\n",
            "7/7 [==============================] - 0s 21ms/step - loss: 0.6945 - accuracy: 0.1292 - val_loss: 0.6932 - val_accuracy: 0.1321\n",
            "Epoch 31/50\n",
            "7/7 [==============================] - 0s 21ms/step - loss: 0.6944 - accuracy: 0.1866 - val_loss: 0.6928 - val_accuracy: 0.2453\n",
            "Epoch 32/50\n",
            "7/7 [==============================] - 0s 31ms/step - loss: 0.6937 - accuracy: 0.2488 - val_loss: 0.6933 - val_accuracy: 0.2453\n",
            "Epoch 33/50\n",
            "7/7 [==============================] - 0s 33ms/step - loss: 0.6936 - accuracy: 0.2488 - val_loss: 0.6938 - val_accuracy: 0.2453\n",
            "Epoch 34/50\n",
            "7/7 [==============================] - 0s 33ms/step - loss: 0.6941 - accuracy: 0.1053 - val_loss: 0.6949 - val_accuracy: 0.0566\n",
            "Epoch 35/50\n",
            "7/7 [==============================] - 0s 27ms/step - loss: 0.6940 - accuracy: 0.0957 - val_loss: 0.6948 - val_accuracy: 0.1321\n",
            "Epoch 36/50\n",
            "7/7 [==============================] - 0s 25ms/step - loss: 0.6948 - accuracy: 0.1340 - val_loss: 0.6925 - val_accuracy: 0.2453\n",
            "Epoch 37/50\n",
            "7/7 [==============================] - 0s 25ms/step - loss: 0.6941 - accuracy: 0.2488 - val_loss: 0.6925 - val_accuracy: 0.2453\n",
            "Epoch 38/50\n",
            "7/7 [==============================] - 0s 28ms/step - loss: 0.6943 - accuracy: 0.2488 - val_loss: 0.6926 - val_accuracy: 0.2453\n",
            "Epoch 39/50\n",
            "7/7 [==============================] - 0s 27ms/step - loss: 0.6939 - accuracy: 0.1292 - val_loss: 0.6945 - val_accuracy: 0.1321\n",
            "Epoch 40/50\n",
            "7/7 [==============================] - 0s 26ms/step - loss: 0.6942 - accuracy: 0.0622 - val_loss: 0.6954 - val_accuracy: 0.0566\n",
            "Epoch 41/50\n",
            "7/7 [==============================] - 0s 26ms/step - loss: 0.6944 - accuracy: 0.1053 - val_loss: 0.6954 - val_accuracy: 0.2453\n",
            "Epoch 42/50\n",
            "7/7 [==============================] - 0s 28ms/step - loss: 0.6933 - accuracy: 0.2488 - val_loss: 0.6937 - val_accuracy: 0.2453\n",
            "Epoch 43/50\n",
            "7/7 [==============================] - 0s 24ms/step - loss: 0.6935 - accuracy: 0.1866 - val_loss: 0.6928 - val_accuracy: 0.1321\n",
            "Epoch 44/50\n",
            "7/7 [==============================] - 0s 29ms/step - loss: 0.6952 - accuracy: 0.1292 - val_loss: 0.6932 - val_accuracy: 0.1321\n",
            "Epoch 45/50\n",
            "7/7 [==============================] - 0s 28ms/step - loss: 0.6943 - accuracy: 0.1005 - val_loss: 0.6941 - val_accuracy: 0.0566\n",
            "Epoch 46/50\n",
            "7/7 [==============================] - 0s 26ms/step - loss: 0.6946 - accuracy: 0.1818 - val_loss: 0.6949 - val_accuracy: 0.2453\n",
            "Epoch 47/50\n",
            "7/7 [==============================] - 0s 24ms/step - loss: 0.6946 - accuracy: 0.2153 - val_loss: 0.6930 - val_accuracy: 0.1321\n",
            "Epoch 48/50\n",
            "7/7 [==============================] - 0s 27ms/step - loss: 0.6937 - accuracy: 0.1292 - val_loss: 0.6931 - val_accuracy: 0.1321\n",
            "Epoch 49/50\n",
            "7/7 [==============================] - 0s 29ms/step - loss: 0.6934 - accuracy: 0.0861 - val_loss: 0.6935 - val_accuracy: 0.2453\n",
            "Epoch 50/50\n",
            "7/7 [==============================] - 0s 25ms/step - loss: 0.6938 - accuracy: 0.2488 - val_loss: 0.6932 - val_accuracy: 0.2453\n"
          ]
        },
        {
          "output_type": "execute_result",
          "data": {
            "text/plain": [
              "<keras.callbacks.History at 0x7f8ee71e6c20>"
            ]
          },
          "metadata": {},
          "execution_count": 123
        }
      ]
    }
  ],
  "metadata": {
    "kernelspec": {
      "display_name": "Python 3 (ipykernel)",
      "language": "python",
      "name": "python3"
    },
    "language_info": {
      "codemirror_mode": {
        "name": "ipython",
        "version": 3
      },
      "file_extension": ".py",
      "mimetype": "text/x-python",
      "name": "python",
      "nbconvert_exporter": "python",
      "pygments_lexer": "ipython3",
      "version": "3.9.13"
    },
    "colab": {
      "provenance": []
    }
  },
  "nbformat": 4,
  "nbformat_minor": 5
}